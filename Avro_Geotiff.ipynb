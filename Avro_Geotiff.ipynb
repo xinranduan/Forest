{
 "cells": [
  {
   "cell_type": "code",
   "execution_count": null,
   "metadata": {
    "scrolled": true
   },
   "outputs": [],
   "source": [
    "import avro\n",
    "from avro.datafile import DataFileReader, DataFileWriter\n",
    "from avro.io import DatumReader, DatumWriter"
   ]
  },
  {
   "cell_type": "code",
   "execution_count": null,
   "metadata": {
    "collapsed": true
   },
   "outputs": [],
   "source": [
    "import gdal\n",
    "import numpy\n",
    "zonefilename = \"examples/data/states.shp\"\n",
    "datafilename = \"examples/data/glc2000.tif\""
   ]
  },
  {
   "cell_type": "code",
   "execution_count": null,
   "metadata": {
    "scrolled": true
   },
   "outputs": [],
   "source": [
    "schema = avro.schema.Parse(open(\"geotiff.avsc\", \"rb\").read())\n",
    "writer = DataFileWriter(open(\"geotiff.avro\", \"wb\"), DatumWriter(), schema)"
   ]
  },
  {
   "cell_type": "code",
   "execution_count": null,
   "metadata": {
    "collapsed": true
   },
   "outputs": [],
   "source": [
    "filehandle = gdal.Open(datafilename)\n",
    "if filehandle is None:\n",
    "    print ('Unable to open %s', datafilename)\n",
    "    sys.exit(1)\n",
    "Y = filehandle.RasterYSize\n",
    "X = filehandle.RasterXSize\n",
    "band = filehandle.GetRasterBand(1)\n",
    "no_data_value = band.GetNoDataValue()\n",
    "data_array = band.ReadAsArray(0,0,X,Y)"
   ]
  },
  {
   "cell_type": "code",
   "execution_count": null,
   "metadata": {
    "collapsed": true
   },
   "outputs": [],
   "source": [
    "writer.append({\"data\": data_array, \"nodatavalue\": no_data_value, \"x\":X, \"y\":Y})\n",
    "writer.close()"
   ]
  },
  {
   "cell_type": "code",
   "execution_count": null,
   "metadata": {
    "collapsed": true
   },
   "outputs": [],
   "source": [
    "import pyspark\n",
    "from pyspark import SparkConf, SparkContext\n",
    "conf = SparkConf().setMaster(\"local\").setAppName(\"Test\")\n",
    "sc = pyspark.SparkContext(conf = conf)"
   ]
  },
  {
   "cell_type": "code",
   "execution_count": null,
   "metadata": {
    "collapsed": true
   },
   "outputs": [],
   "source": [
    "df = pyspark.read.format(\"com.databricks.spark.avro\").load(\"geotiff.avro\")"
   ]
  }
 ],
 "metadata": {
  "kernelspec": {
   "display_name": "Python 3",
   "language": "python",
   "name": "python3"
  },
  "language_info": {
   "codemirror_mode": {
    "name": "ipython",
    "version": 3
   },
   "file_extension": ".py",
   "mimetype": "text/x-python",
   "name": "python",
   "nbconvert_exporter": "python",
   "pygments_lexer": "ipython3",
   "version": "3.5.4"
  }
 },
 "nbformat": 4,
 "nbformat_minor": 2
}
