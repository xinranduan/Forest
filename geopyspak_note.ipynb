{
 "cells": [
  {
   "cell_type": "code",
   "execution_count": 1,
   "metadata": {
    "scrolled": true
   },
   "outputs": [
    {
     "name": "stdout",
     "output_type": "stream",
     "text": [
      "env: SPARK_HOME=/opt/spark\n"
     ]
    }
   ],
   "source": [
    "%env SPARK_HOME /opt/spark\n",
    "import geopyspark as gps\n",
    "import pyspark\n",
    "from pyspark import SparkConf, SparkContext\n",
    "from shapely.geometry import box"
   ]
  },
  {
   "cell_type": "code",
   "execution_count": 2,
   "metadata": {},
   "outputs": [],
   "source": [
    "conf = gps.geopyspark_conf(master=\"local[*]\", appName=\"example\")\n",
    "sc = pyspark.SparkContext(conf = conf)"
   ]
  },
  {
   "cell_type": "code",
   "execution_count": 3,
   "metadata": {
    "scrolled": true
   },
   "outputs": [],
   "source": [
    "raster_layer = gps.geotiff.get(layer_type=gps.LayerType.SPATIAL,\n",
    "                               uri='examples/data/glc2000.tif').persist()"
   ]
  },
  {
   "cell_type": "code",
   "execution_count": 4,
   "metadata": {
    "scrolled": true
   },
   "outputs": [
    {
     "data": {
      "text/plain": [
       "geopyspark.geotrellis.layer.RasterLayer"
      ]
     },
     "execution_count": 4,
     "metadata": {},
     "output_type": "execute_result"
    }
   ],
   "source": [
    "type(raster_layer)"
   ]
  },
  {
   "cell_type": "code",
   "execution_count": 5,
   "metadata": {},
   "outputs": [],
   "source": [
    "metadata = raster_layer.collect_metadata()"
   ]
  },
  {
   "cell_type": "code",
   "execution_count": 6,
   "metadata": {},
   "outputs": [
    {
     "data": {
      "text/plain": [
       "Metadata(Bounds(minKey=SpatialKey(col=0, row=0), maxKey=SpatialKey(col=157, row=63)), uint8, 0, +proj=longlat +datum=WGS84 +no_defs , Extent(xmin=-180.00446428570004, ymin=-56.01339243789998, xmax=179.99553456230004, ymax=89.99553566630006), TileLayout(layoutCols=158, layoutRows=64, tileCols=256, tileRows=256), LayoutDefinition(extent=Extent(xmin=-180.00446428570004, ymin=-56.290178151299514, xmax=181.13839170149666, ymax=89.99553566630006), tileLayout=TileLayout(layoutCols=158, layoutRows=64, tileCols=256, tileRows=256)))"
      ]
     },
     "execution_count": 6,
     "metadata": {},
     "output_type": "execute_result"
    }
   ],
   "source": [
    "metadata"
   ]
  },
  {
   "cell_type": "code",
   "execution_count": 15,
   "metadata": {},
   "outputs": [],
   "source": [
    "raw_rdd = raster_layer.to_numpy_rdd()"
   ]
  },
  {
   "cell_type": "code",
   "execution_count": 16,
   "metadata": {},
   "outputs": [
    {
     "data": {
      "text/plain": [
       "[(ProjectedExtent(extent=Extent(xmin=-180.00446428570004, ymin=85.42410710950006, xmax=-175.43303572890005, ymax=89.99553566630006), epsg=4326, proj4=None),\n",
       "  Tile(cells=array([[[20, 20, 20, ..., 20, 20, 20],\n",
       "        [20, 20, 20, ..., 20, 20, 20],\n",
       "        [20, 20, 20, ..., 20, 20, 20],\n",
       "        ..., \n",
       "        [20, 20, 20, ..., 20, 20, 20],\n",
       "        [20, 20, 20, ..., 20, 20, 20],\n",
       "        [20, 20, 20, ..., 20, 20, 20]]], dtype=uint8), cell_type='UBYTE', no_data_value=0.0))]"
      ]
     },
     "execution_count": 16,
     "metadata": {},
     "output_type": "execute_result"
    }
   ],
   "source": [
    "data_rdd = raw_rdd."
   ]
  },
  {
   "cell_type": "code",
   "execution_count": 9,
   "metadata": {},
   "outputs": [
    {
     "data": {
      "text/plain": [
       "['__class__',\n",
       " '__delattr__',\n",
       " '__dict__',\n",
       " '__dir__',\n",
       " '__doc__',\n",
       " '__eq__',\n",
       " '__format__',\n",
       " '__ge__',\n",
       " '__getattribute__',\n",
       " '__gt__',\n",
       " '__hash__',\n",
       " '__init__',\n",
       " '__le__',\n",
       " '__lt__',\n",
       " '__module__',\n",
       " '__ne__',\n",
       " '__new__',\n",
       " '__reduce__',\n",
       " '__reduce_ex__',\n",
       " '__repr__',\n",
       " '__setattr__',\n",
       " '__sizeof__',\n",
       " '__slots__',\n",
       " '__str__',\n",
       " '__subclasshook__',\n",
       " '__weakref__',\n",
       " 'bands',\n",
       " 'cache',\n",
       " 'collect_keys',\n",
       " 'collect_metadata',\n",
       " 'convert_data_type',\n",
       " 'count',\n",
       " 'from_numpy_rdd',\n",
       " 'getNumPartitions',\n",
       " 'get_class_histogram',\n",
       " 'get_histogram',\n",
       " 'get_min_max',\n",
       " 'get_quantile_breaks',\n",
       " 'get_quantile_breaks_exact_int',\n",
       " 'layer_type',\n",
       " 'map_cells',\n",
       " 'map_tiles',\n",
       " 'merge',\n",
       " 'persist',\n",
       " 'pysc',\n",
       " 'reclassify',\n",
       " 'reproject',\n",
       " 'srdd',\n",
       " 'tile_to_layout',\n",
       " 'to_geotiff_rdd',\n",
       " 'to_numpy_rdd',\n",
       " 'to_png_rdd',\n",
       " 'to_spatial_layer',\n",
       " 'unpersist',\n",
       " 'wrapped_rdds']"
      ]
     },
     "execution_count": 9,
     "metadata": {},
     "output_type": "execute_result"
    }
   ],
   "source": [
    "dir(gps.RasterLayer)_"
   ]
  },
  {
   "cell_type": "code",
   "execution_count": 10,
   "metadata": {
    "scrolled": true
   },
   "outputs": [
    {
     "data": {
      "text/plain": [
       "2528"
      ]
     },
     "execution_count": 10,
     "metadata": {},
     "output_type": "execute_result"
    }
   ],
   "source": [
    "raster_layer.count()"
   ]
  },
  {
   "cell_type": "code",
   "execution_count": null,
   "metadata": {
    "collapsed": true
   },
   "outputs": [],
   "source": []
  }
 ],
 "metadata": {
  "kernelspec": {
   "display_name": "Python 3",
   "language": "python",
   "name": "python3"
  },
  "language_info": {
   "codemirror_mode": {
    "name": "ipython",
    "version": 3
   },
   "file_extension": ".py",
   "mimetype": "text/x-python",
   "name": "python",
   "nbconvert_exporter": "python",
   "pygments_lexer": "ipython3",
   "version": "3.5.4"
  }
 },
 "nbformat": 4,
 "nbformat_minor": 2
}
